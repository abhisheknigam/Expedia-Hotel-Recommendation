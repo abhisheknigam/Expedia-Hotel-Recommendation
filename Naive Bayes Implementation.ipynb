{
 "cells": [
  {
   "cell_type": "code",
   "execution_count": 44,
   "metadata": {
    "collapsed": false
   },
   "outputs": [],
   "source": [
    "import numpy as np\n",
    "import pandas as pd\n",
    "import seaborn as sns\n",
    "import matplotlib.pyplot as plt\n",
    "import random\n",
    "import math\n",
    "from sklearn.metrics import average_precision_score\n",
    "from sklearn.preprocessing import label_binarize\n",
    "\n",
    "% matplotlib inline"
   ]
  },
  {
   "cell_type": "code",
   "execution_count": 2,
   "metadata": {
    "collapsed": false
   },
   "outputs": [],
   "source": [
    "dtype={'is_booking':bool,\n",
    "        'srch_ci' : np.str_,\n",
    "        'srch_co' : np.str_,\n",
    "        'srch_adults_cnt' : np.int32,\n",
    "        'srch_children_cnt' : np.int32,\n",
    "        'srch_rm_cnt' : np.int32,\n",
    "        'srch_destination_id':np.int32,\n",
    "        'user_location_country' : np.float64,\n",
    "        'user_location_region' : np.float64,\n",
    "        'user_location_city' : np.float64,\n",
    "        'hotel_cluster' : np.float64,\n",
    "        'orig_destination_distance':np.float64,\n",
    "        'date_time':np.str_,\n",
    "        'hotel_market':np.int32}"
   ]
  },
  {
   "cell_type": "code",
   "execution_count": 3,
   "metadata": {
    "collapsed": false
   },
   "outputs": [],
   "source": [
    "df0 = pd.read_csv('train.csv',dtype=dtype, usecols=dtype, parse_dates=['date_time'] ,sep=',',nrows=2500000).dropna()"
   ]
  },
  {
   "cell_type": "code",
   "execution_count": 4,
   "metadata": {
    "collapsed": false
   },
   "outputs": [],
   "source": [
    "df2 = df0[(df0['hotel_cluster'] == 91)  | (df0['hotel_cluster'] == 41)| (df0['hotel_cluster'] == 65) | (df0['hotel_cluster'] == 48) | (df0['hotel_cluster'] == 25)| (df0['hotel_cluster'] == 33)| (df0['hotel_cluster'] == 95)| (df0['hotel_cluster'] == 18)| (df0['hotel_cluster'] == 21) | (df0['hotel_cluster'] == 70) ]\n",
    "#| (df0['hotel_cluster'] == 65) | (df0['hotel_cluster'] == 48) | (df0['hotel_cluster'] == 25)"
   ]
  },
  {
   "cell_type": "code",
   "execution_count": 5,
   "metadata": {
    "collapsed": false
   },
   "outputs": [],
   "source": [
    "df1 = df2[[\n",
    "    'date_time',\n",
    "    'user_location_country',\n",
    "    'orig_destination_distance',\n",
    "    'srch_ci',\n",
    "    'srch_co', \n",
    "    'srch_adults_cnt',\n",
    "    'srch_children_cnt',\n",
    "    'srch_rm_cnt', \n",
    "    'srch_destination_id',\n",
    "    'is_booking',\n",
    "    'hotel_market', \n",
    "    'hotel_cluster',\n",
    "    ]]"
   ]
  },
  {
   "cell_type": "code",
   "execution_count": 6,
   "metadata": {
    "collapsed": false
   },
   "outputs": [
    {
     "name": "stderr",
     "output_type": "stream",
     "text": [
      "/Users/abhisheknigam/anaconda/lib/python3.5/site-packages/ipykernel/__main__.py:1: SettingWithCopyWarning: \n",
      "A value is trying to be set on a copy of a slice from a DataFrame.\n",
      "Try using .loc[row_indexer,col_indexer] = value instead\n",
      "\n",
      "See the caveats in the documentation: http://pandas.pydata.org/pandas-docs/stable/indexing.html#indexing-view-versus-copy\n",
      "  if __name__ == '__main__':\n",
      "/Users/abhisheknigam/anaconda/lib/python3.5/site-packages/ipykernel/__main__.py:2: SettingWithCopyWarning: \n",
      "A value is trying to be set on a copy of a slice from a DataFrame.\n",
      "Try using .loc[row_indexer,col_indexer] = value instead\n",
      "\n",
      "See the caveats in the documentation: http://pandas.pydata.org/pandas-docs/stable/indexing.html#indexing-view-versus-copy\n",
      "  from ipykernel import kernelapp as app\n",
      "/Users/abhisheknigam/anaconda/lib/python3.5/site-packages/ipykernel/__main__.py:3: SettingWithCopyWarning: \n",
      "A value is trying to be set on a copy of a slice from a DataFrame.\n",
      "Try using .loc[row_indexer,col_indexer] = value instead\n",
      "\n",
      "See the caveats in the documentation: http://pandas.pydata.org/pandas-docs/stable/indexing.html#indexing-view-versus-copy\n",
      "  app.launch_new_instance()\n",
      "/Users/abhisheknigam/anaconda/lib/python3.5/site-packages/ipykernel/__main__.py:5: SettingWithCopyWarning: \n",
      "A value is trying to be set on a copy of a slice from a DataFrame.\n",
      "Try using .loc[row_indexer,col_indexer] = value instead\n",
      "\n",
      "See the caveats in the documentation: http://pandas.pydata.org/pandas-docs/stable/indexing.html#indexing-view-versus-copy\n"
     ]
    }
   ],
   "source": [
    "df1['srch_ci']=pd.to_datetime(df1['srch_ci'],infer_datetime_format = True,errors='coerce')\n",
    "df1['srch_co']=pd.to_datetime(df1['srch_co'],infer_datetime_format = True,errors='coerce')\n",
    "df1['date_time']=pd.to_datetime(df1['date_time'],infer_datetime_format = True,errors='coerce')\n",
    "\n",
    "df1['month']= df1['date_time'].dt.month\n",
    "df1['plan_time'] = ((df1['srch_ci']-df1['date_time'])/np.timedelta64(1,'D')).astype(float)\n",
    "df1['length_of_stay']=((df1['srch_co']-df1['srch_ci'])/np.timedelta64(1,'D')).astype(float)"
   ]
  },
  {
   "cell_type": "code",
   "execution_count": 7,
   "metadata": {
    "collapsed": true
   },
   "outputs": [],
   "source": [
    "df1.loc[df1['srch_children_cnt'] > 0, 'srch_children_cnt'] = 1\n",
    "df1.loc[df1['srch_adults_cnt'] > 2, 'srch_adults_cnt'] = 3"
   ]
  },
  {
   "cell_type": "code",
   "execution_count": 8,
   "metadata": {
    "collapsed": false
   },
   "outputs": [],
   "source": [
    "#['is_booking','hotel_market','user_location_country','user_location_region','user_location_city','srch_destination_id']\n",
    "#['date_time','srch_ci','srch_co']\n",
    "lst_drop=['date_time','srch_ci','srch_co','is_booking','hotel_market','user_location_country','srch_destination_id']\n",
    "df1.drop(lst_drop,axis=1,inplace=True)"
   ]
  },
  {
   "cell_type": "code",
   "execution_count": 9,
   "metadata": {
    "collapsed": false
   },
   "outputs": [],
   "source": [
    "msk = np.random.rand(len(df1)) < 0.8"
   ]
  },
  {
   "cell_type": "code",
   "execution_count": 10,
   "metadata": {
    "collapsed": false
   },
   "outputs": [],
   "source": [
    "train = df1[msk]"
   ]
  },
  {
   "cell_type": "code",
   "execution_count": 11,
   "metadata": {
    "collapsed": false
   },
   "outputs": [],
   "source": [
    "test = df1[~msk]"
   ]
  },
  {
   "cell_type": "code",
   "execution_count": 12,
   "metadata": {
    "collapsed": false
   },
   "outputs": [],
   "source": [
    "expected_result = test.hotel_cluster"
   ]
  },
  {
   "cell_type": "code",
   "execution_count": 13,
   "metadata": {
    "collapsed": false
   },
   "outputs": [],
   "source": [
    "del test['hotel_cluster']"
   ]
  },
  {
   "cell_type": "code",
   "execution_count": 14,
   "metadata": {
    "collapsed": true
   },
   "outputs": [],
   "source": [
    "del df1\n",
    "del df2"
   ]
  },
  {
   "cell_type": "code",
   "execution_count": 15,
   "metadata": {
    "collapsed": false
   },
   "outputs": [],
   "source": [
    "trainingSet = train.as_matrix()\n",
    "testSet = test.as_matrix()"
   ]
  },
  {
   "cell_type": "markdown",
   "metadata": {},
   "source": [
    "# Naive Bayes Implementation"
   ]
  },
  {
   "cell_type": "code",
   "execution_count": 16,
   "metadata": {
    "collapsed": true
   },
   "outputs": [],
   "source": [
    "def segregateClass(df):\n",
    "    classLabel = {}\n",
    "    for i in range(len(df)):\n",
    "        array = df[i]\n",
    "        if (array[-4] not in classLabel):\n",
    "            classLabel[array[-4]] = []\n",
    "        classLabel[array[-4]].append(array)\n",
    "    return classLabel"
   ]
  },
  {
   "cell_type": "code",
   "execution_count": 17,
   "metadata": {
    "collapsed": true
   },
   "outputs": [],
   "source": [
    "def calculateStandardDeviation(arrayOfNum):\n",
    "    avg = calculateMean(arrayOfNum)\n",
    "    variance = sum([pow(x-avg,2) for x in arrayOfNum])/float(len(arrayOfNum)-1)\n",
    "    return math.sqrt(variance)"
   ]
  },
  {
   "cell_type": "code",
   "execution_count": 18,
   "metadata": {
    "collapsed": true
   },
   "outputs": [],
   "source": [
    "def calculateMean(arrayOfNum):\n",
    "    return sum(arrayOfNum)/float(len(arrayOfNum))"
   ]
  },
  {
   "cell_type": "code",
   "execution_count": 19,
   "metadata": {
    "collapsed": true
   },
   "outputs": [],
   "source": [
    "def segregateClasses(dataset):\n",
    "    classSummary = [(calculateMean(attribute), calculateStandardDeviation(attribute)) for attribute in zip(*dataset)]\n",
    "    del classSummary[-4]\n",
    "    return classSummary"
   ]
  },
  {
   "cell_type": "code",
   "execution_count": 20,
   "metadata": {
    "collapsed": true
   },
   "outputs": [],
   "source": [
    "def summarizeByClass(dataset):\n",
    "    differentClasses = segregateClass(dataset)\n",
    "    classSummaries = {}\n",
    "    for value, instances in differentClasses.items():\n",
    "        classSummaries[value] = segregateClasses(instances)\n",
    "    return classSummaries"
   ]
  },
  {
   "cell_type": "code",
   "execution_count": 21,
   "metadata": {
    "collapsed": true
   },
   "outputs": [],
   "source": [
    "import math\n",
    "def calculateProbability(x, mean, stdev):\n",
    "    exponent = math.exp(-(math.pow(x-mean,2)/(2*math.pow(stdev,2))))\n",
    "    return (1 / (math.sqrt(2*math.pi) * stdev)) * exponent"
   ]
  },
  {
   "cell_type": "code",
   "execution_count": 22,
   "metadata": {
    "collapsed": true
   },
   "outputs": [],
   "source": [
    "def probabilityForEachClass(summaries, inputVector):\n",
    "    probabilities = {}\n",
    "    for classValue, classSummaries in summaries.items():\n",
    "        probabilities[classValue] = 1\n",
    "        for i in range(len(classSummaries)):\n",
    "            mean, stdev = classSummaries[i]\n",
    "            x = inputVector[i]\n",
    "            probabilities[classValue] += calculateProbability(x, mean, stdev)\n",
    "    return probabilities"
   ]
  },
  {
   "cell_type": "code",
   "execution_count": 23,
   "metadata": {
    "collapsed": true
   },
   "outputs": [],
   "source": [
    "def getClassPrediction(summaries, inputVector):\n",
    "    probabilities = probabilityForEachClass(summaries, inputVector)\n",
    "    bestLabel, bestProb = None, -1\n",
    "    for classValue, probability in probabilities.items():\n",
    "        if bestLabel is None or probability > bestProb:\n",
    "            bestProb = probability\n",
    "            bestLabel = classValue\n",
    "    return bestLabel"
   ]
  },
  {
   "cell_type": "code",
   "execution_count": 24,
   "metadata": {
    "collapsed": true
   },
   "outputs": [],
   "source": [
    "def predict(summaries, testSet):\n",
    "\tpredictions = []\n",
    "\tfor i in range(len(testSet)):\n",
    "\t\tresult = getClassPrediction(summaries, testSet[i])\n",
    "\t\tpredictions.append(result)\n",
    "\treturn predictions"
   ]
  },
  {
   "cell_type": "code",
   "execution_count": 25,
   "metadata": {
    "collapsed": false
   },
   "outputs": [],
   "source": [
    "def accuracy(actual_values, predicted_values):\n",
    "    match = 0\n",
    "    for x in range(len(actual_values)):\n",
    "        if actual_values['hotel_cluster'][x] == predicted_values[x]:\n",
    "            match += 1\n",
    "    return (match/float(len(actual_values))) * 100.0"
   ]
  },
  {
   "cell_type": "markdown",
   "metadata": {},
   "source": [
    "# Running Naive Bayes on the dataset"
   ]
  },
  {
   "cell_type": "code",
   "execution_count": 26,
   "metadata": {
    "collapsed": false
   },
   "outputs": [],
   "source": [
    "summaries = summarizeByClass(trainingSet)"
   ]
  },
  {
   "cell_type": "code",
   "execution_count": 27,
   "metadata": {
    "collapsed": true
   },
   "outputs": [],
   "source": [
    "predicted_value = predict(summaries, testSet)"
   ]
  },
  {
   "cell_type": "code",
   "execution_count": 28,
   "metadata": {
    "collapsed": false
   },
   "outputs": [],
   "source": [
    "pd_final = pd.DataFrame(data=expected_result, dtype=np.int64)"
   ]
  },
  {
   "cell_type": "code",
   "execution_count": 29,
   "metadata": {
    "collapsed": true
   },
   "outputs": [],
   "source": [
    "pd_final = pd_final.reset_index()"
   ]
  },
  {
   "cell_type": "code",
   "execution_count": 30,
   "metadata": {
    "collapsed": false
   },
   "outputs": [],
   "source": [
    "accuracy = accuracy(pd_final, predicted_value)"
   ]
  },
  {
   "cell_type": "code",
   "execution_count": 31,
   "metadata": {
    "collapsed": false
   },
   "outputs": [
    {
     "data": {
      "text/plain": [
       "15.884505896705978"
      ]
     },
     "execution_count": 31,
     "metadata": {},
     "output_type": "execute_result"
    }
   ],
   "source": [
    "accuracy"
   ]
  },
  {
   "cell_type": "code",
   "execution_count": 48,
   "metadata": {
    "collapsed": false
   },
   "outputs": [],
   "source": [
    "y = label_binarize(pd_final['hotel_cluster'], classes=[91,41,65,48,25,33,95,18,21,70])\n",
    "predicted_value = label_binarize(predicted_value, classes=[91,41,65,48,25,33,95,18,21,70])"
   ]
  },
  {
   "cell_type": "code",
   "execution_count": 49,
   "metadata": {
    "collapsed": false
   },
   "outputs": [
    {
     "name": "stdout",
     "output_type": "stream",
     "text": [
      "Average precision-recall score: 0.24\n"
     ]
    }
   ],
   "source": [
    "average_precision = average_precision_score(y, predicted_value)\n",
    "print('Average precision-recall score: {0:0.2f}'.format(\n",
    "      average_precision))"
   ]
  },
  {
   "cell_type": "code",
   "execution_count": null,
   "metadata": {
    "collapsed": false
   },
   "outputs": [],
   "source": [
    "pd_final['hotel_cluster'][1]"
   ]
  },
  {
   "cell_type": "code",
   "execution_count": null,
   "metadata": {
    "collapsed": false
   },
   "outputs": [],
   "source": [
    "predicted_value[1]"
   ]
  },
  {
   "cell_type": "code",
   "execution_count": 40,
   "metadata": {
    "collapsed": false
   },
   "outputs": [
    {
     "data": {
      "text/plain": [
       "0        25\n",
       "1        95\n",
       "2        95\n",
       "3        95\n",
       "4        95\n",
       "5        95\n",
       "6        95\n",
       "7        95\n",
       "8        91\n",
       "9        25\n",
       "10       25\n",
       "11       25\n",
       "12       25\n",
       "13       70\n",
       "14       95\n",
       "15       65\n",
       "16       65\n",
       "17       33\n",
       "18       33\n",
       "19       33\n",
       "20       33\n",
       "21       33\n",
       "22       33\n",
       "23       33\n",
       "24       33\n",
       "25       33\n",
       "26       33\n",
       "27       33\n",
       "28       33\n",
       "29       91\n",
       "         ..\n",
       "61445    21\n",
       "61446    95\n",
       "61447    18\n",
       "61448    95\n",
       "61449    21\n",
       "61450    18\n",
       "61451    21\n",
       "61452    70\n",
       "61453    70\n",
       "61454    91\n",
       "61455    48\n",
       "61456    41\n",
       "61457    41\n",
       "61458    91\n",
       "61459    91\n",
       "61460    18\n",
       "61461    18\n",
       "61462    25\n",
       "61463    91\n",
       "61464    25\n",
       "61465    41\n",
       "61466    41\n",
       "61467    65\n",
       "61468    70\n",
       "61469    91\n",
       "61470    48\n",
       "61471    91\n",
       "61472    41\n",
       "61473    91\n",
       "61474    41\n",
       "Name: hotel_cluster, dtype: int64"
      ]
     },
     "execution_count": 40,
     "metadata": {},
     "output_type": "execute_result"
    }
   ],
   "source": [
    "pd_final['hotel_cluster']"
   ]
  },
  {
   "cell_type": "code",
   "execution_count": null,
   "metadata": {
    "collapsed": true
   },
   "outputs": [],
   "source": []
  }
 ],
 "metadata": {
  "kernelspec": {
   "display_name": "Python [Root]",
   "language": "python",
   "name": "Python [Root]"
  },
  "language_info": {
   "codemirror_mode": {
    "name": "ipython",
    "version": 3
   },
   "file_extension": ".py",
   "mimetype": "text/x-python",
   "name": "python",
   "nbconvert_exporter": "python",
   "pygments_lexer": "ipython3",
   "version": "3.5.2"
  }
 },
 "nbformat": 4,
 "nbformat_minor": 0
}
